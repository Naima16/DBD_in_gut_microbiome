{
 "cells": [
  {
   "cell_type": "code",
   "execution_count": 12,
   "id": "a5bed613",
   "metadata": {},
   "outputs": [],
   "source": [
    "from utils import temporal_changes_utils, midas_db_utils, core_gene_utils, parse_patric, config\n",
    "import pickle\n",
    "from collections import defaultdict"
   ]
  },
  {
   "cell_type": "code",
   "execution_count": 3,
   "id": "fb02a8f5",
   "metadata": {},
   "outputs": [],
   "source": [
    "snp_change_counts = pickle.load(open('../data_poyet/pickles/snp_change_dict.pkl', 'rb'))\n",
    "gene_gain_counts = pickle.load(open('../data_poyet/pickles/gene_gain_dict.pkl', 'rb'))\n",
    "\n",
    "species_spair_gene_gain_dict = defaultdict(dict)\n",
    "\n",
    "for tup in snp_change_counts:\n",
    "\tfor species in gene_gain_counts[tup]:\n",
    "\t\tcount = snp_change_counts[tup][species]\n",
    "\t\tif count <= 20 and gene_gain_counts[tup][species] > 0:\n",
    "\t\t\tspecies_spair_gene_gain_dict[species][tup] = gene_gain_counts[tup][species]"
   ]
  },
  {
   "cell_type": "code",
   "execution_count": null,
   "id": "97d6350b",
   "metadata": {},
   "outputs": [
    {
     "name": "stdout",
     "output_type": "stream",
     "text": [
      "Bacteroides_ovatus_58035\n",
      "Faecalibacterium_prausnitzii_62201\n",
      "Bacteroides_fragilis_54507\n",
      "Bacteroides_uniformis_57318\n",
      "Bacteroides_vulgatus_57955\n"
     ]
    }
   ],
   "source": [
    "species_spair_gene_gain_full_dict = defaultdict(dict)\n",
    "\n",
    "for species in species_spair_gene_gain_dict:\n",
    "\tprint(species)\n",
    "\ttemporal_change_map = temporal_changes_utils.load_temporal_change_map(species)\n",
    "\tfor sample_i, sample_j in species_spair_gene_gain_dict[species]:\n",
    "\t\tgene_opps, gene_perr, gains, losses = temporal_changes_utils.calculate_gains_losses_from_temporal_change_map(temporal_change_map, sample_i, sample_j)\n",
    "\t\tif len(gains) != species_spair_gene_gain_dict[species][(sample_i, sample_j)]:\n",
    "\t\t\tprint(\"Huh?\")\n",
    "\t\tspecies_spair_gene_gain_full_dict[species][(sample_i, sample_j)] = gains"
   ]
  },
  {
   "cell_type": "code",
   "execution_count": 5,
   "id": "02238c99",
   "metadata": {},
   "outputs": [
    {
     "name": "stdout",
     "output_type": "stream",
     "text": [
      "defaultdict(<type 'dict'>, {'Bacteroides_ovatus_58035': {('SRR9224159', 'SRR9224160'): [('469590.5.peg.5671', 1.58, 42.17, 41.87, 40.87), ('665954.3.peg.679', 0.76, 42.17, 26.8, 40.87)], ('SRR9224293', 'SRR9224292'): [('469590.5.peg.5671', 1.68, 54.26, 34.66, 33.95)], ('SRR9224164', 'SRR9224165'): [('665954.3.peg.679', 2.17, 53.72, 39.74, 54.2)], ('SRR9224288', 'SRR9224253'): [('665954.3.peg.679', 0.39, 35.2, 12.9, 20.89)], ('SRR9224074', 'SRR9224020'): [('702443.3.peg.5025', 0.82, 53.11, 40.48, 55.1)], ('SRR9224022', 'SRR9224021'): [('702443.3.peg.3784', 0.7, 33.7, 33.83, 37.84)], ('SRR9224017', 'SRR9224405'): [('702443.3.peg.3784', 0.3, 46.15, 35.87, 39.82)], ('SRR9224025', 'SRR9224018'): [('702443.3.peg.21', 0.38, 36.57, 20.75, 33.21), ('702443.3.peg.2254', 1.36, 36.57, 22.44, 33.21), ('702443.3.peg.3784', 0.0, 36.57, 31.49, 33.21), ('702443.3.peg.5025', 1.77, 36.57, 23.53, 33.21), ('702443.3.peg.5106', 0.74, 36.57, 21.91, 33.21)], ('SRR9224021', 'SRR9224024'): [('702443.3.peg.5106', 0.24, 37.84, 25.88, 35.11)], ('SRR9224172', 'SRR9224135'): [('702443.3.peg.5106', 0.24, 30.2, 24.45, 37.14)], ('SRR9224162', 'SRR9224168'): [('469590.5.peg.5671', 1.71, 48.88, 23.01, 22.75)], ('SRR9224023', 'SRR9224026'): [('702443.3.peg.5025', 0.84, 26.61, 60.88, 64.21)]}, 'Faecalibacterium_prausnitzii_62201': {('SRR9224111', 'SRR9224119'): [('718252.3.peg.2682', 0.49, 25.18, 14.26, 20.55)]}, 'Bacteroides_vulgatus_57955': {('SRR9224506', 'SRR9224505'): [('997876.3.peg.3720', 2.35, 68.19, 17.49, 22.39)], ('SRR9224237', 'SRR9224236'): [('457391.3.peg.2210', 2.32, 56.45, 27.07, 37.93)], ('SRR9224369', 'SRR9224370'): [('457394.3.peg.3974', 4.45, 95.12, 77.88, 99.69), ('997876.3.peg.3948', 3.54, 95.12, 60.71, 99.69)], ('SRR9224455', 'SRR9224454'): [('469593.3.peg.3621', 0.0, 46.05, 36.44, 52.16)], ('SRR9224560', 'SRR9224561'): [('469593.3.peg.3621', 0.0, 61.12, 51.89, 68.9)], ('SRR9224451', 'SRR9224450'): [('469593.3.peg.3621', 0.0, 46.98, 20.06, 25.22)], ('SRR9224287', 'SRR9224350'): [('457395.6.peg.1982', 1.71, 36.02, 23.4, 34.93), ('457395.6.peg.2017', 0.23, 36.02, 22.83, 34.93), ('457395.6.peg.4116', 0.96, 36.02, 26.28, 34.93), ('457395.6.peg.4117', 1.55, 36.02, 26.19, 34.93), ('997877.3.peg.2231', 0.92, 36.02, 28.73, 34.93)], ('SRR9224528', 'SRR9224243'): [('1235786.3.peg.764', 0.0, 60.02, 67.41, 68.19), ('997876.3.peg.3948', 0.0, 60.02, 59.0, 68.19)], ('SRR9224280', 'SRR9224277'): [('435590.9.peg.3298', 0.61, 57.72, 27.88, 37.09)], ('SRR9224430', 'SRR9224431'): [('457395.6.peg.2048', 2.39, 56.08, 38.79, 40.48)], ('SRR9224283', 'SRR9224242'): [('469593.3.peg.3621', 0.0, 66.28, 29.71, 40.62)]}, 'Bacteroides_uniformis_57318': {('SRR9224023', 'SRR9224026'): [('1235787.3.peg.619', 0.0, 21.0, 30.23, 28.68)], ('SRR9224292', 'SRR9224291'): [('1235787.3.peg.619', 0.11, 30.93, 21.3, 22.19), ('997890.3.peg.3159', 0.81, 30.93, 13.98, 22.19)], ('SRR9224257', 'SRR9224472'): [('1235787.3.peg.619', 0.0, 24.4, 24.14, 23.2)], ('SRR9224025', 'SRR9224018'): [('1235787.3.peg.619', 0.17, 38.24, 26.38, 24.8)], ('SRR9224163', 'SRR9224164'): [('1235787.3.peg.619', 0.0, 34.79, 24.91, 21.33)], ('SRR9224295', 'SRR9224300'): [('1235787.3.peg.619', 0.0, 37.93, 26.16, 30.44)]}, 'Bacteroides_fragilis_54507': {('SRR9224074', 'SRR9224020'): [('1339275.3.peg.2570', 0.0, 29.05, 14.86, 20.71), ('1339280.3.peg.4788', 0.38, 29.05, 19.45, 20.71)]}})\n"
     ]
    }
   ],
   "source": [
    "print(species_spair_gene_gain_full_dict)"
   ]
  },
  {
   "cell_type": "code",
   "execution_count": 8,
   "id": "67a46dbb",
   "metadata": {},
   "outputs": [
    {
     "name": "stdout",
     "output_type": "stream",
     "text": [
      "Bacteroides_ovatus_58035\n",
      "Faecalibacterium_prausnitzii_62201\n",
      "Bacteroides_vulgatus_57955\n",
      "Bacteroides_uniformis_57318\n",
      "Bacteroides_fragilis_54507\n"
     ]
    }
   ],
   "source": [
    "species_spair_gene_gain_names_dict = defaultdict(dict)\n",
    "\n",
    "for species in species_spair_gene_gain_full_dict:\n",
    "    print(species)\n",
    "    # get all genome ids for this species' pan genome:\n",
    "    genome_ids = midas_db_utils.get_ref_genome_ids(species)\n",
    "    \n",
    "    # Load the non-shared genes (whitelisted genes):\n",
    "    non_shared_genes = core_gene_utils.parse_non_shared_pangenome_genes(species)\n",
    "\n",
    "    # load the gene descriptions for all genomes coresponding to this speceis:\n",
    "    gene_descriptions=parse_patric.load_patric_gene_descriptions(genome_ids, non_shared_genes)\n",
    "    \n",
    "    for spair in species_spair_gene_gain_full_dict[species]:\n",
    "        gene_names = []\n",
    "        for gene_id, D1, Dm1, D2, Dm2 in species_spair_gene_gain_full_dict[species][spair]:\n",
    "            try:\n",
    "                gene_names.append(gene_descriptions[gene_id])\n",
    "            except:\n",
    "                print(gene_id)\n",
    "        species_spair_gene_gain_names_dict[species][spair] = gene_names"
   ]
  },
  {
   "cell_type": "code",
   "execution_count": 19,
   "id": "8729ecae",
   "metadata": {},
   "outputs": [],
   "source": [
    "f = open('%s/gene_gain_annotations.tsv' % config.analysis_directory, 'w')\n",
    "f.write('\\t'.join(['sample1', 'sample2', 'species', 'gain_count', 'gain_genes']) + '\\n')\n",
    "for species in species_spair_gene_gain_names_dict:\n",
    "    for spair in species_spair_gene_gain_names_dict[species]:\n",
    "        gain_count = species_spair_gene_gain_dict[species][spair]\n",
    "        gain_genes = species_spair_gene_gain_names_dict[species][spair]\n",
    "        f.write('\\t'.join([spair[0], spair[1], species, str(gain_count), ','.join(gain_genes)]) + '\\n')\n",
    "f.close()"
   ]
  },
  {
   "cell_type": "code",
   "execution_count": 9,
   "id": "2e0ed382",
   "metadata": {},
   "outputs": [],
   "source": [
    "snp_change_counts = pickle.load(open('../data_poyet/pickles/snp_change_dict.pkl', 'rb'))\n",
    "gene_loss_counts = pickle.load(open('../data_poyet/pickles/gene_loss_dict.pkl', 'rb'))\n",
    "\n",
    "species_spair_gene_loss_dict = defaultdict(dict)\n",
    "\n",
    "for tup in snp_change_counts:\n",
    "\tfor species in gene_loss_counts[tup]:\n",
    "\t\tcount = snp_change_counts[tup][species]\n",
    "\t\tif count <= 20 and gene_loss_counts[tup][species] > 0:\n",
    "\t\t\tspecies_spair_gene_loss_dict[species][tup] = gene_loss_counts[tup][species]"
   ]
  },
  {
   "cell_type": "code",
   "execution_count": null,
   "id": "7a70e516",
   "metadata": {},
   "outputs": [
    {
     "name": "stdout",
     "output_type": "stream",
     "text": [
      "Bacteroides_ovatus_58035\n",
      "Bacteroides_fragilis_54507\n",
      "Bacteroides_xylanisolvens_57185\n",
      "Bacteroides_uniformis_57318\n",
      "Bacteroides_vulgatus_57955\n"
     ]
    }
   ],
   "source": [
    "species_spair_gene_loss_full_dict = defaultdict(dict)\n",
    "\n",
    "for species in species_spair_gene_loss_dict:\n",
    "\tprint(species)\n",
    "\ttemporal_change_map = temporal_changes_utils.load_temporal_change_map(species)\n",
    "\tfor sample_i, sample_j in species_spair_gene_loss_dict[species]:\n",
    "\t\tgene_opps, gene_perr, gains, losses = temporal_changes_utils.calculate_gains_losses_from_temporal_change_map(temporal_change_map, sample_i, sample_j)\n",
    "\t\tif len(losses) != species_spair_gene_loss_dict[species][(sample_i, sample_j)]:\n",
    "\t\t\tprint(\"Huh?\")\n",
    "\t\tspecies_spair_gene_loss_full_dict[species][(sample_i, sample_j)] = losses"
   ]
  },
  {
   "cell_type": "code",
   "execution_count": 15,
   "id": "7aca1581",
   "metadata": {},
   "outputs": [
    {
     "name": "stdout",
     "output_type": "stream",
     "text": [
      "defaultdict(<type 'dict'>, {'Bacteroides_ovatus_58035': {('SRR9224253', 'SRR9224258'): [('665954.3.peg.679', 12.9, 20.89, 2.35, 54.57)], ('SRR9224292', 'SRR9224291'): [('469590.5.peg.5671', 34.66, 33.95, 1.03, 24.5)], ('SRR9224160', 'SRR9224161'): [('469590.5.peg.5671', 41.87, 40.87, 1.36, 35.06), ('665954.3.peg.679', 26.8, 40.87, 0.0, 35.06)], ('SRR9224026', 'SRR9224025'): [('702443.3.peg.5025', 60.88, 64.21, 1.77, 36.57)], ('SRR9224024', 'SRR9224023'): [('702443.3.peg.5106', 25.88, 35.11, 0.76, 26.61)], ('SRR9224135', 'SRR9224462'): [('702443.3.peg.2254', 22.82, 37.14, 0.0, 32.98), ('702443.3.peg.5106', 24.45, 37.14, 0.6, 32.98)], ('SRR9224019', 'SRR9224022'): [('702443.3.peg.5025', 29.66, 27.16, 0.0, 33.7)], ('SRR9224172', 'SRR9224135'): [('702443.3.peg.3784', 29.3, 30.2, 0.0, 37.14)], ('SRR9224018', 'SRR9224017'): [('1339347.3.peg.168', 23.09, 33.21, 1.35, 46.15), ('702443.3.peg.21', 20.75, 33.21, 0.0, 46.15), ('702443.3.peg.3784', 31.49, 33.21, 0.3, 46.15)], ('SRR9224472', 'SRR9224473'): [('665954.3.peg.679', 31.48, 44.7, 1.88, 40.69)], ('SRR9224023', 'SRR9224026'): [('702443.3.peg.3784', 29.95, 26.61, 0.7, 64.21)], ('SRR9224067', 'SRR9224069'): [('702443.3.peg.3784', 53.73, 55.62, 0.61, 46.9)]}, 'Bacteroides_xylanisolvens_57185': {('SRR9224277', 'SRR9224278'): [('556258.5.peg.4381', 16.67, 23.56, 0.96, 21.78)]}, 'Bacteroides_vulgatus_57955': {('SRR9224450', 'SRR9224457'): [('469593.3.peg.3621', 20.06, 25.22, 0.0, 67.33)], ('SRR9224236', 'SRR9224235'): [('457394.3.peg.2466', 27.95, 37.93, 0.8, 25.92)], ('SRR9224342', 'SRR9224343'): [('457395.6.peg.4441', 16.14, 24.18, 3.41, 95.3)], ('SRR9224054', 'SRR9224214'): [('457394.3.peg.2650', 28.38, 41.21, 0.0, 56.74)], ('SRR9224372', 'SRR9224247'): [('1235786.3.peg.764', 28.95, 34.44, 0.71, 46.59), ('1235786.3.peg.765', 33.74, 34.44, 0.0, 46.59), ('457394.3.peg.3974', 30.0, 34.44, 1.56, 46.59), ('997876.3.peg.3948', 26.22, 34.44, 0.89, 46.59)], ('SRR9224561', 'SRR9224453'): [('469593.3.peg.3621', 51.89, 68.9, 0.37, 47.75)], ('SRR9224328', 'SRR9224122'): [('1235786.3.peg.765', 75.75, 89.4, 3.71, 90.96)], ('SRR9224507', 'SRR9224510'): [('435590.9.peg.4133', 31.2, 43.32, 3.45, 71.3), ('997877.3.peg.416', 27.78, 43.32, 2.75, 71.3)], ('SRR9224006', 'SRR9224562'): [('469593.3.peg.3621', 37.68, 61.68, 0.0, 52.07)], ('SRR9224317', 'SRR9224139'): [('469593.3.peg.3621', 37.87, 60.42, 0.0, 42.01)]}, 'Bacteroides_uniformis_57318': {('SRR9224472', 'SRR9224471'): [('1235787.3.peg.619', 24.14, 23.2, 0.08, 50.85)], ('SRR9224258', 'SRR9224257'): [('1235787.3.peg.619', 30.54, 37.56, 0.0, 24.4)], ('SRR9224405', 'SRR9224406'): [('1235787.3.peg.619', 20.94, 22.01, 0.0, 22.17)], ('SRR9224164', 'SRR9224165'): [('1235787.3.peg.619', 24.91, 21.33, 0.0, 26.87)], ('SRR9224026', 'SRR9224025'): [('1235787.3.peg.619', 30.23, 28.68, 0.17, 38.24)], ('SRR9224296', 'SRR9224295'): [('1235787.3.peg.619', 26.16, 25.68, 0.0, 37.93)], ('SRR9224293', 'SRR9224292'): [('1235787.3.peg.619', 19.1, 22.73, 0.11, 30.93)], ('SRR9224300', 'SRR9224163'): [('1235787.3.peg.619', 26.16, 30.44, 0.0, 34.79)], ('SRR9224073', 'SRR9224074'): [('585543.3.peg.741', 16.56, 22.36, 0.76, 23.72)]}, 'Bacteroides_fragilis_54507': {('SRR9224073', 'SRR9224074'): [('1339280.3.peg.4788', 14.47, 22.41, 0.38, 29.05)]}})\n"
     ]
    }
   ],
   "source": [
    "print(species_spair_gene_loss_full_dict)"
   ]
  },
  {
   "cell_type": "code",
   "execution_count": 16,
   "id": "376c48c5",
   "metadata": {},
   "outputs": [
    {
     "name": "stdout",
     "output_type": "stream",
     "text": [
      "Bacteroides_ovatus_58035\n",
      "Bacteroides_xylanisolvens_57185\n",
      "Bacteroides_vulgatus_57955\n",
      "Bacteroides_uniformis_57318\n",
      "Bacteroides_fragilis_54507\n"
     ]
    }
   ],
   "source": [
    "species_spair_gene_loss_names_dict = defaultdict(dict)\n",
    "\n",
    "for species in species_spair_gene_loss_full_dict:\n",
    "    print(species)\n",
    "    # get all genome ids for this species' pan genome:\n",
    "    genome_ids = midas_db_utils.get_ref_genome_ids(species)\n",
    "    \n",
    "    # Load the non-shared genes (whitelisted genes):\n",
    "    non_shared_genes = core_gene_utils.parse_non_shared_pangenome_genes(species)\n",
    "\n",
    "    # load the gene descriptions for all genomes coresponding to this speceis:\n",
    "    gene_descriptions=parse_patric.load_patric_gene_descriptions(genome_ids, non_shared_genes)\n",
    "    \n",
    "    for spair in species_spair_gene_loss_full_dict[species]:\n",
    "        gene_names = []\n",
    "        for gene_id, D1, Dm1, D2, Dm2 in species_spair_gene_loss_full_dict[species][spair]:\n",
    "            try:\n",
    "                gene_names.append(gene_descriptions[gene_id])\n",
    "            except:\n",
    "                print(gene_id)\n",
    "        species_spair_gene_loss_names_dict[species][spair] = gene_names"
   ]
  },
  {
   "cell_type": "code",
   "execution_count": 20,
   "id": "51f6a963",
   "metadata": {},
   "outputs": [],
   "source": [
    "f = open('%s/gene_loss_annotations.tsv' % config.analysis_directory, 'w')\n",
    "f.write('\\t'.join(['sample1', 'sample2', 'species', 'loss_count', 'loss_genes']) + '\\n')\n",
    "for species in species_spair_gene_loss_names_dict:\n",
    "    for spair in species_spair_gene_loss_names_dict[species]:\n",
    "        loss_count = species_spair_gene_loss_dict[species][spair]\n",
    "        loss_genes = species_spair_gene_loss_names_dict[species][spair]\n",
    "        f.write('\\t'.join([spair[0], spair[1], species, str(loss_count), ','.join(loss_genes)]) + '\\n')\n",
    "f.close()"
   ]
  }
 ],
 "metadata": {
  "kernelspec": {
   "display_name": "Python 2.7.15",
   "language": "python2",
   "name": "python2"
  },
  "language_info": {
   "codemirror_mode": {
    "name": "ipython",
    "version": 2
   },
   "file_extension": ".py",
   "mimetype": "text/x-python",
   "name": "python",
   "nbconvert_exporter": "python",
   "pygments_lexer": "ipython2",
   "version": "2.7.15"
  }
 },
 "nbformat": 4,
 "nbformat_minor": 5
}
